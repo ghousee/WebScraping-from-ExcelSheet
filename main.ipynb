{
 "cells": [
  {
   "attachments": {},
   "cell_type": "markdown",
   "metadata": {},
   "source": [
    "# WebScrping from Excel Sheet \n",
    "This code can be used to access websites listed inside an excel sheet or csv file. The output folder created by the code contains the __*Heading and Paragraph text only*__.\n",
    "## Requirements\n",
    "Install the following:\n",
    "- pandas\n",
    "- os\n",
    "- selenium\n"
   ]
  },
  {
   "cell_type": "code",
   "execution_count": null,
   "metadata": {},
   "outputs": [],
   "source": [
    "#Importing dependencies\n",
    "import pandas as pd\n",
    "import os \n",
    "from selenium import webdriver"
   ]
  },
  {
   "cell_type": "code",
   "execution_count": null,
   "metadata": {},
   "outputs": [],
   "source": [
    "#Setting up chrome driver\n",
    "driver = webdriver.Chrome()\n",
    "\n",
    "#Reading the excel sheet(Enter path of your Excel Sheet)\n",
    "df = pd.read_excel('../Input.xlsx')"
   ]
  },
  {
   "cell_type": "code",
   "execution_count": null,
   "metadata": {
    "notebookRunGroups": {
     "groupValue": ""
    }
   },
   "outputs": [],
   "source": [
    "#Looping through the rows of the DataFrame\n",
    "for i, row in df.iterrows():\n",
    "    #Extracting the URL and URL_ID from the row\n",
    "    url = row['URL']\n",
    "    url_id = row['URL_ID']\n",
    "    pagenotfound = \"\"\n",
    "    \n",
    "    #Gets URL and performs GET request\n",
    "    driver.get(url)\n",
    "    \n",
    "    #Extract the title of the article\n",
    "    try:\n",
    "        title = driver.find_element_by_xpath('//h1').text\n",
    "    except:\n",
    "            print(\"Error 404: Page was not found.\", url)\n",
    "            # pagenotfound.write(f'{url}\\n')\n",
    "\n",
    "    #Extract the text of the article\n",
    "    text_elements = driver.find_elements_by_xpath('//p')\n",
    "    text = '\\n'.join([elem.text for elem in text_elements])\n",
    "    \n",
    "    #Saving the extracted text to a text file with URL_ID as its file name\n",
    "    with open(f'output/{url_id}.txt', 'w') as f:\n",
    "        f.write(f'{title}\\n\\n{text}')\n",
    "\n",
    "\n",
    "# close the Chrome driver\n",
    "driver.quit()"
   ]
  }
 ],
 "metadata": {
  "kernelspec": {
   "display_name": "ds37",
   "language": "python",
   "name": "python3"
  },
  "language_info": {
   "codemirror_mode": {
    "name": "ipython",
    "version": 3
   },
   "file_extension": ".py",
   "mimetype": "text/x-python",
   "name": "python",
   "nbconvert_exporter": "python",
   "pygments_lexer": "ipython3",
   "version": "3.11.0"
  },
  "orig_nbformat": 4
 },
 "nbformat": 4,
 "nbformat_minor": 2
}
